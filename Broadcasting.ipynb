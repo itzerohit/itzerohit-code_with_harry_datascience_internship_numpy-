{
 "cells": [
  {
   "cell_type": "markdown",
   "id": "f0b0eec0-2704-4819-9ced-2341b77b56fd",
   "metadata": {},
   "source": [
    "Why Loops Are Slow"
   ]
  },
  {
   "cell_type": "code",
   "execution_count": 2,
   "id": "c341a144-6131-4c1b-8376-29efc95f0ec8",
   "metadata": {},
   "outputs": [
    {
     "name": "stdout",
     "output_type": "stream",
     "text": [
      "[np.int64(1), np.int64(4), np.int64(9), np.int64(16), np.int64(25), np.int64(36)]\n"
     ]
    }
   ],
   "source": [
    "# Example -- Looping Over Arrays in Python\n",
    "import numpy as np \n",
    "arr = np.array([1,2,3,4,5,6])\n",
    "result = []\n",
    "\n",
    "# using a loop to square each element \n",
    "for num in arr:\n",
    "    result.append(num ** 2)\n",
    "\n",
    "print(result)"
   ]
  },
  {
   "cell_type": "markdown",
   "id": "1702c230-af67-4c78-9510-bfcc108352fa",
   "metadata": {},
   "source": [
    "But what if i say we have other option than this and that will make the executionability of the code more faster as compared to this "
   ]
  },
  {
   "cell_type": "code",
   "execution_count": 5,
   "id": "831c53ae-50d5-425e-9509-a11a32b1f916",
   "metadata": {},
   "outputs": [
    {
     "name": "stdout",
     "output_type": "stream",
     "text": [
      "[ 1  4  9 16 25 36]\n"
     ]
    }
   ],
   "source": [
    "arr = np.array([1,2,3,4,5,6])\n",
    "result = arr ** 2\n",
    "print(result)"
   ]
  },
  {
   "cell_type": "raw",
   "id": "371a6eb0-9ec7-49c8-8b6e-21e2b4036086",
   "metadata": {},
   "source": [
    "result = arr+10"
   ]
  },
  {
   "cell_type": "code",
   "execution_count": 6,
   "id": "94f03e13-74bc-4560-a930-3d73355d9bf4",
   "metadata": {},
   "outputs": [
    {
     "data": {
      "text/plain": [
       "array([ 1,  4,  9, 16, 25, 36])"
      ]
     },
     "execution_count": 6,
     "metadata": {},
     "output_type": "execute_result"
    }
   ],
   "source": [
    "result"
   ]
  },
  {
   "cell_type": "code",
   "execution_count": 8,
   "id": "2e89d1ef-30c4-40a6-884c-e3c3378e4cba",
   "metadata": {},
   "outputs": [
    {
     "name": "stdout",
     "output_type": "stream",
     "text": [
      "[11 12 13 14 15 16]\n"
     ]
    }
   ],
   "source": [
    "arr = np.array([1,2,3,4,5,6])\n",
    "result = arr + 10\n",
    "print(result)"
   ]
  },
  {
   "cell_type": "markdown",
   "id": "efaebda9-2c26-49b2-8144-47c6dad5c2c6",
   "metadata": {},
   "source": [
    "# Broadcasting with arrays of Diffrent Shapes"
   ]
  },
  {
   "cell_type": "code",
   "execution_count": 9,
   "id": "f666250d-042b-4c1d-8d11-580756086991",
   "metadata": {},
   "outputs": [
    {
     "name": "stdout",
     "output_type": "stream",
     "text": [
      "[ 8 10 12  4  6  8]\n"
     ]
    }
   ],
   "source": [
    "# Broadcasting with two 1d arrays \n",
    "arr1 = np.array([1,2,3,4,5,6])\n",
    "arr2 = np.array([7,8,9,0,1,2])\n",
    "result = arr1 + arr2. # This is a broadcasting called ELement-wise addition\n",
    "print(result)"
   ]
  },
  {
   "cell_type": "code",
   "execution_count": 11,
   "id": "6063b306-a80e-42ed-bdb8-328b002ba594",
   "metadata": {},
   "outputs": [
    {
     "name": "stdout",
     "output_type": "stream",
     "text": [
      "[[ 2  4  6  8 10]\n",
      " [ 2  4  6  8 10]]\n"
     ]
    }
   ],
   "source": [
    "# Numpy automatically aligns the two arrays and performs element wise addition,\n",
    "arr1 = np.array([[1,2,3,4,5],[1,2,3,4,5]])\n",
    "arr2 = np.array([1,2,3,4,5])\n",
    "result = arr1 + arr2\n",
    "print(result)"
   ]
  },
  {
   "cell_type": "markdown",
   "id": "765c0705-2509-49a0-9cc2-1519d0205a7c",
   "metadata": {},
   "source": [
    "# Normalinzing data using broadcasting \n",
    "if i say how can we get normalization in broadcasting then the ans \n",
    "we will subtract mean from the data and divide buy std deviation \n",
    "data-mean/std"
   ]
  },
  {
   "cell_type": "code",
   "execution_count": 12,
   "id": "a4af6d28-6b89-49ef-96b8-0e25e52fb67c",
   "metadata": {},
   "outputs": [
    {
     "name": "stdout",
     "output_type": "stream",
     "text": [
      "[[-1.22474487 -1.22474487 -1.22474487]\n",
      " [ 0.          0.          0.        ]\n",
      " [ 1.22474487  1.22474487  1.22474487]]\n"
     ]
    }
   ],
   "source": [
    "data  = np.array([[10,20,30],[40,50,60],[70,80,90]])\n",
    "\n",
    "# Calculating mean and standar deviation \n",
    "mean = data.mean(axis=0)\n",
    "std = data.std(axis=0)\n",
    "\n",
    "normalized_data = (data-mean)/std\n",
    "print(normalized_data)"
   ]
  },
  {
   "cell_type": "code",
   "execution_count": null,
   "id": "6c877d78-99c9-4271-9374-5b73ce9cb29d",
   "metadata": {},
   "outputs": [],
   "source": []
  }
 ],
 "metadata": {
  "kernelspec": {
   "display_name": "Python [conda env:miniconda3-eda-env]",
   "language": "python",
   "name": "conda-env-miniconda3-eda-env-py"
  },
  "language_info": {
   "codemirror_mode": {
    "name": "ipython",
    "version": 3
   },
   "file_extension": ".py",
   "mimetype": "text/x-python",
   "name": "python",
   "nbconvert_exporter": "python",
   "pygments_lexer": "ipython3",
   "version": "3.10.16"
  }
 },
 "nbformat": 4,
 "nbformat_minor": 5
}
