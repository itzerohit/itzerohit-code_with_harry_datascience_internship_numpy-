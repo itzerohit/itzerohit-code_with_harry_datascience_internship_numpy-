{
 "cells": [
  {
   "cell_type": "code",
   "execution_count": 1,
   "id": "a277b581-e41d-49ac-a362-b8bc67b023c2",
   "metadata": {},
   "outputs": [
    {
     "name": "stdout",
     "output_type": "stream",
     "text": [
      "int64\n"
     ]
    }
   ],
   "source": [
    "import numpy as np\n",
    "arr = np.array([1,2,3,4,5,6])\n",
    "print(arr.dtype)"
   ]
  },
  {
   "cell_type": "markdown",
   "id": "fba07061-30f5-4b1a-bc26-6830e2d6ea88",
   "metadata": {},
   "source": [
    "Changing data type"
   ]
  },
  {
   "cell_type": "markdown",
   "id": "96eec1a4-0a2c-4aaf-86d0-2f4b62a475ce",
   "metadata": {},
   "source": [
    "# You can cast(convert) the data type of an array using the .astype() method. THis is useful when you need to change the type for a specific operation or when you want to reduce memeory usage."
   ]
  },
  {
   "cell_type": "code",
   "execution_count": 3,
   "id": "ab54b5d6-3e05-44f5-a87a-cc8e8f5690c7",
   "metadata": {},
   "outputs": [],
   "source": [
    "# Changine Data Types\n",
    "arr = np.array([1,2,3,4,5,6,7,8,9])"
   ]
  },
  {
   "cell_type": "code",
   "execution_count": 4,
   "id": "0fb67052-8eca-43d7-b833-67f006e468c4",
   "metadata": {},
   "outputs": [
    {
     "name": "stdout",
     "output_type": "stream",
     "text": [
      "int64\n"
     ]
    }
   ],
   "source": [
    "print(arr.dtype)"
   ]
  },
  {
   "cell_type": "code",
   "execution_count": 5,
   "id": "f16e3be0-3434-4c92-8895-55311306dcac",
   "metadata": {},
   "outputs": [
    {
     "data": {
      "text/plain": [
       "array([1, 2, 3, 4, 5, 6, 7, 8, 9], dtype=int32)"
      ]
     },
     "execution_count": 5,
     "metadata": {},
     "output_type": "execute_result"
    }
   ],
   "source": [
    "arr.astype(\"int32\")"
   ]
  },
  {
   "cell_type": "code",
   "execution_count": 6,
   "id": "a7197915-0a33-4477-aa2a-c77e07f8490c",
   "metadata": {},
   "outputs": [
    {
     "data": {
      "text/plain": [
       "dtype('int64')"
      ]
     },
     "execution_count": 6,
     "metadata": {},
     "output_type": "execute_result"
    }
   ],
   "source": [
    "arr.dtype"
   ]
  },
  {
   "cell_type": "code",
   "execution_count": 13,
   "id": "5a435d7a-6e0d-48e1-bcf9-860c7393dfe0",
   "metadata": {},
   "outputs": [],
   "source": [
    "arr_int = arr.astype(np.int32)"
   ]
  },
  {
   "cell_type": "code",
   "execution_count": 14,
   "id": "db53eea5-ed52-41ae-a0a9-1c27c88d5378",
   "metadata": {},
   "outputs": [
    {
     "data": {
      "text/plain": [
       "array([1, 2, 3, 4, 5, 6, 7, 8, 9])"
      ]
     },
     "execution_count": 14,
     "metadata": {},
     "output_type": "execute_result"
    }
   ],
   "source": [
    "arr\n"
   ]
  },
  {
   "cell_type": "code",
   "execution_count": 15,
   "id": "487941ee-8b15-43c3-b312-2f43e10167bc",
   "metadata": {},
   "outputs": [
    {
     "data": {
      "text/plain": [
       "dtype('int64')"
      ]
     },
     "execution_count": 15,
     "metadata": {},
     "output_type": "execute_result"
    }
   ],
   "source": [
    "arr.dtype"
   ]
  },
  {
   "cell_type": "raw",
   "id": "512c24fd-9ab5-406b-994e-5772008f231d",
   "metadata": {},
   "source": [
    "arr_int"
   ]
  },
  {
   "cell_type": "code",
   "execution_count": 16,
   "id": "71113aeb-c120-4806-8012-a9b33ae19901",
   "metadata": {},
   "outputs": [
    {
     "data": {
      "text/plain": [
       "array([1, 2, 3, 4, 5, 6, 7, 8, 9])"
      ]
     },
     "execution_count": 16,
     "metadata": {},
     "output_type": "execute_result"
    }
   ],
   "source": [
    "arr"
   ]
  },
  {
   "cell_type": "code",
   "execution_count": 17,
   "id": "07d5a5a5-9d40-439a-a523-cf6c0f9e6ba9",
   "metadata": {},
   "outputs": [],
   "source": [
    "#### Doing downcasting to save the memory"
   ]
  },
  {
   "cell_type": "code",
   "execution_count": 18,
   "id": "115f344a-4928-4e14-bad6-a1b95692e63c",
   "metadata": {},
   "outputs": [],
   "source": [
    "arr_large = np.array([100000, 2000000, 3000000], dtype = np.int64)"
   ]
  },
  {
   "cell_type": "code",
   "execution_count": 19,
   "id": "553abfbf-8189-4622-8597-62317a2fcc4a",
   "metadata": {},
   "outputs": [
    {
     "data": {
      "text/plain": [
       "dtype('int64')"
      ]
     },
     "execution_count": 19,
     "metadata": {},
     "output_type": "execute_result"
    }
   ],
   "source": [
    "arr_large.dtype"
   ]
  },
  {
   "cell_type": "code",
   "execution_count": 20,
   "id": "84d7f930-dd6f-49c5-b057-a84b2fb819bf",
   "metadata": {},
   "outputs": [],
   "source": [
    "arr_small = arr_large.astype(np.int32) # This is basicallly a downcasting to a samller type "
   ]
  },
  {
   "cell_type": "code",
   "execution_count": 21,
   "id": "53654fb6-6a2e-4342-8367-dbf0006266cf",
   "metadata": {},
   "outputs": [
    {
     "data": {
      "text/plain": [
       "dtype('int32')"
      ]
     },
     "execution_count": 21,
     "metadata": {},
     "output_type": "execute_result"
    }
   ],
   "source": [
    "arr_small.dtype"
   ]
  },
  {
   "cell_type": "code",
   "execution_count": 22,
   "id": "b249a7a6-e8e1-493e-8ab2-e3779ae4d8e6",
   "metadata": {},
   "outputs": [
    {
     "name": "stdout",
     "output_type": "stream",
     "text": [
      "[ 100000 2000000 3000000]\n"
     ]
    }
   ],
   "source": [
    "print(arr_small)"
   ]
  },
  {
   "cell_type": "code",
   "execution_count": 23,
   "id": "248bec1e-fa25-424c-ad29-420ae3b16392",
   "metadata": {},
   "outputs": [
    {
     "name": "stdout",
     "output_type": "stream",
     "text": [
      "int32\n"
     ]
    }
   ],
   "source": [
    "print(arr_small.dtype)"
   ]
  },
  {
   "cell_type": "markdown",
   "id": "c821129d-30a1-4810-b5f0-9f2e614fdca0",
   "metadata": {},
   "source": [
    "# Why Data Types Matter in Numpy"
   ]
  },
  {
   "cell_type": "code",
   "execution_count": 24,
   "id": "8f9d74d8-5414-4e4c-bc94-bf388bcb6d04",
   "metadata": {},
   "outputs": [],
   "source": [
    "arr_int64 = np.array([1,2,3], dtype=np.int64)"
   ]
  },
  {
   "cell_type": "code",
   "execution_count": 25,
   "id": "ef9b1e19-146b-417d-a2ec-ae37fe0ff5a6",
   "metadata": {},
   "outputs": [],
   "source": [
    "arr_int32 = np.array([6,7,8], dtype=np.int32)"
   ]
  },
  {
   "cell_type": "code",
   "execution_count": 26,
   "id": "c06eab1e-a977-444f-bf61-2efc4b37b3d3",
   "metadata": {},
   "outputs": [
    {
     "name": "stdout",
     "output_type": "stream",
     "text": [
      "12\n",
      "24\n"
     ]
    }
   ],
   "source": [
    "print(arr_int32.nbytes)\n",
    "print(arr_int64.nbytes)"
   ]
  },
  {
   "cell_type": "markdown",
   "id": "7190554d-a635-44f2-8614-c3fa5a917781",
   "metadata": {},
   "source": [
    "# String Data Type in Numpy"
   ]
  },
  {
   "cell_type": "code",
   "execution_count": 27,
   "id": "f4af5a3d-7781-4837-a0af-9269692d0cec",
   "metadata": {},
   "outputs": [],
   "source": [
    "arr = np.array([\"Apple\",\"Banana\",\"Cat\",\"Dog\",\"Elephant\",\"Fish\"],dtype='U10')"
   ]
  },
  {
   "cell_type": "code",
   "execution_count": 28,
   "id": "dbed029b-c9bf-4570-8908-1be7ad81707c",
   "metadata": {},
   "outputs": [
    {
     "data": {
      "text/plain": [
       "array(['Apple', 'Banana', 'Cat', 'Dog', 'Elephant', 'Fish'], dtype='<U10')"
      ]
     },
     "execution_count": 28,
     "metadata": {},
     "output_type": "execute_result"
    }
   ],
   "source": [
    "arr"
   ]
  },
  {
   "cell_type": "code",
   "execution_count": 30,
   "id": "359cacbb-b28e-4f1f-94a4-00d6b66db766",
   "metadata": {},
   "outputs": [
    {
     "data": {
      "text/plain": [
       "dtype('<U10')"
      ]
     },
     "execution_count": 30,
     "metadata": {},
     "output_type": "execute_result"
    }
   ],
   "source": [
    "arr.dtype"
   ]
  },
  {
   "cell_type": "markdown",
   "id": "2a14019c-3df9-466e-9d18-1070affa9411",
   "metadata": {},
   "source": [
    "Complex Numbers"
   ]
  },
  {
   "cell_type": "code",
   "execution_count": 32,
   "id": "486db66d-821d-4704-8248-d928c842fa88",
   "metadata": {},
   "outputs": [],
   "source": [
    "arr = np.array([1+2j, 2+3j,4+5j],dtype=np.complex128)"
   ]
  },
  {
   "cell_type": "code",
   "execution_count": 33,
   "id": "8dbdd7b6-8ca1-46fa-99b6-e2db90109d89",
   "metadata": {},
   "outputs": [
    {
     "data": {
      "text/plain": [
       "array([1.+2.j, 2.+3.j, 4.+5.j])"
      ]
     },
     "execution_count": 33,
     "metadata": {},
     "output_type": "execute_result"
    }
   ],
   "source": [
    "arr"
   ]
  },
  {
   "cell_type": "code",
   "execution_count": 34,
   "id": "ed499591-f7cd-454e-9635-4cc6755e2e39",
   "metadata": {},
   "outputs": [],
   "source": [
    "arr = np.array([1+2j, 2+3j,4+5j],dtype=\"complex128\") # Here we can use complez 64 too in place of complex 128"
   ]
  },
  {
   "cell_type": "code",
   "execution_count": 35,
   "id": "b6113674-3c52-4987-a8cd-7ba73ff952c3",
   "metadata": {},
   "outputs": [
    {
     "data": {
      "text/plain": [
       "array([1.+2.j, 2.+3.j, 4.+5.j])"
      ]
     },
     "execution_count": 35,
     "metadata": {},
     "output_type": "execute_result"
    }
   ],
   "source": [
    "arr"
   ]
  },
  {
   "cell_type": "markdown",
   "id": "fb45cdd7-2bcf-418f-aa62-28a7707878ae",
   "metadata": {},
   "source": [
    "# Object Data Types\n"
   ]
  },
  {
   "cell_type": "code",
   "execution_count": 36,
   "id": "bef52ecc-ca69-4249-bd2a-4fc2b282ff33",
   "metadata": {},
   "outputs": [],
   "source": [
    "arr = np.array([{'a':1},\"Rohit\",8],dtype=\"object\")"
   ]
  },
  {
   "cell_type": "code",
   "execution_count": 37,
   "id": "cfe4ff5d-f864-44ef-898f-630616a9614c",
   "metadata": {},
   "outputs": [
    {
     "data": {
      "text/plain": [
       "dtype('O')"
      ]
     },
     "execution_count": 37,
     "metadata": {},
     "output_type": "execute_result"
    }
   ],
   "source": [
    "arr.dtype"
   ]
  },
  {
   "cell_type": "code",
   "execution_count": 38,
   "id": "4c7eafe2-9841-4064-8e2b-5b044b8c3ed4",
   "metadata": {},
   "outputs": [
    {
     "data": {
      "text/plain": [
       "array([{'a': 1}, 'Rohit', 8], dtype=object)"
      ]
     },
     "execution_count": 38,
     "metadata": {},
     "output_type": "execute_result"
    }
   ],
   "source": [
    "arr"
   ]
  },
  {
   "cell_type": "code",
   "execution_count": null,
   "id": "f4d423fc-3088-4cfb-b0e5-696d010b75e6",
   "metadata": {},
   "outputs": [],
   "source": []
  }
 ],
 "metadata": {
  "kernelspec": {
   "display_name": "Python [conda env:miniconda3-eda-env]",
   "language": "python",
   "name": "conda-env-miniconda3-eda-env-py"
  },
  "language_info": {
   "codemirror_mode": {
    "name": "ipython",
    "version": 3
   },
   "file_extension": ".py",
   "mimetype": "text/x-python",
   "name": "python",
   "nbconvert_exporter": "python",
   "pygments_lexer": "ipython3",
   "version": "3.10.16"
  }
 },
 "nbformat": 4,
 "nbformat_minor": 5
}
