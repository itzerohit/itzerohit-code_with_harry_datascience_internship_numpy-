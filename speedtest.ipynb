{
 "cells": [
  {
   "cell_type": "code",
   "execution_count": 2,
   "id": "d5146e47-dacc-4ef1-b6a2-e92ed2a78768",
   "metadata": {},
   "outputs": [
    {
     "ename": "TypeError",
     "evalue": "unsupported operand type(s) for -: 'float' and 'builtin_function_or_method'",
     "output_type": "error",
     "traceback": [
      "\u001b[0;31m---------------------------------------------------------------------------\u001b[0m",
      "\u001b[0;31mTypeError\u001b[0m                                 Traceback (most recent call last)",
      "Cell \u001b[0;32mIn[2], line 13\u001b[0m\n\u001b[1;32m     10\u001b[0m add \u001b[38;5;241m=\u001b[39m [x \u001b[38;5;241m+\u001b[39m y \u001b[38;5;28;01mfor\u001b[39;00m x,y \u001b[38;5;129;01min\u001b[39;00m \u001b[38;5;28mzip\u001b[39m(l1,l2)]\n\u001b[1;32m     12\u001b[0m end \u001b[38;5;241m=\u001b[39m time\u001b[38;5;241m.\u001b[39mtime()\n\u001b[0;32m---> 13\u001b[0m \u001b[38;5;28mprint\u001b[39m(\u001b[43mend\u001b[49m\u001b[43m \u001b[49m\u001b[38;5;241;43m-\u001b[39;49m\u001b[43m \u001b[49m\u001b[43mstart\u001b[49m)\n",
      "\u001b[0;31mTypeError\u001b[0m: unsupported operand type(s) for -: 'float' and 'builtin_function_or_method'"
     ]
    }
   ],
   "source": [
    "# using python list\n",
    "import numpy as np\n",
    "import time\n",
    "\n",
    "size = 1_000_000\n",
    "start = time.time\n",
    "l1 = list(range(size))\n",
    "l2 = list(range(size))\n",
    "\n",
    "add = [x + y for x,y in zip(l1,l2)]\n",
    "\n",
    "end = time.time()\n",
    "print(end - start)"
   ]
  },
  {
   "cell_type": "code",
   "execution_count": null,
   "id": "23d35843-89e3-4feb-b076-181648c0be61",
   "metadata": {},
   "outputs": [],
   "source": [
    "l1 = [1,2,4]\n"
   ]
  },
  {
   "cell_type": "code",
   "execution_count": null,
   "id": "50317e36-db3e-472c-a1af-9833738ca800",
   "metadata": {},
   "outputs": [],
   "source": [
    "# using numpy arrays \n",
    "import numpy as np\n",
    "import time\n",
    "\n",
    "size = 1_000_000\n",
    "\n",
    "l1 = np.array(list(range(size)))\n",
    "l2 = np.array(list(range(size)))\n",
    "\n",
    "\n",
    "start = time.time()\n",
    "\n"
   ]
  },
  {
   "cell_type": "code",
   "execution_count": null,
   "id": "a4fc8bbe-871e-42d9-a414-6e2c76143e2b",
   "metadata": {},
   "outputs": [],
   "source": [
    "l2 = [6,7,8]"
   ]
  },
  {
   "cell_type": "code",
   "execution_count": null,
   "id": "f0f7fbce-8bcc-4887-8bb5-78cf3c96d16e",
   "metadata": {},
   "outputs": [],
   "source": [
    "list(zip(l1,l2))"
   ]
  },
  {
   "cell_type": "code",
   "execution_count": null,
   "id": "b96f315b-dbe6-4f35-aa05-aa41fb3ca825",
   "metadata": {},
   "outputs": [],
   "source": []
  },
  {
   "cell_type": "code",
   "execution_count": null,
   "id": "eaa85cf3-2905-420c-8147-4c8eaccc94a1",
   "metadata": {},
   "outputs": [],
   "source": [
    "import numpy as np\n",
    "import time\n",
    "\n",
    "size = 1_000\n",
    "arr1 = np.array(list(range(size)))\n",
    "arr2 = np.array(list(range(size)))\n",
    "\n",
    "start = time.time()\n",
    "\n",
    "result = arr1+arr2\n",
    "end = time.time()\n",
    "\n",
    "print(end - start)\n"
   ]
  },
  {
   "cell_type": "markdown",
   "id": "94e277ae-a6fd-46e6-99f7-da1ad1a35a17",
   "metadata": {},
   "source": [
    "Creating numpy array"
   ]
  },
  {
   "cell_type": "code",
   "execution_count": null,
   "id": "c3f30646-1b8b-41f3-b3d3-03319d3c25dd",
   "metadata": {},
   "outputs": [],
   "source": [
    "import numpy as np\n",
    "np.array([1,2,3,4,5,\"ROhit\"])"
   ]
  },
  {
   "cell_type": "code",
   "execution_count": null,
   "id": "f5b2cef5-e072-4419-b63f-665190123b7f",
   "metadata": {},
   "outputs": [],
   "source": [
    "import numpy as np \n",
    "\n",
    "# Creating 1-D array. \n",
    "arr1 = np.array([1,2,3,4,5,6])\n",
    "print(arr1)\n",
    "\n",
    "# Creating 2-D array.\n",
    "arr2 = np.array([[1,2,3],[4,5,6]])\n",
    "print(arr2)\n",
    "\n",
    "\n",
    "## print type of arr\n",
    "type(arr1)\n",
    "type(arr2)\n",
    "\n",
    "# We can check the shape too for the numpy array. \n",
    "print(arr1.shape)\n",
    "print(arr2.shape)"
   ]
  },
  {
   "cell_type": "code",
   "execution_count": null,
   "id": "9d394a02-56f7-4b6e-8e7f-23b6ad0d696e",
   "metadata": {},
   "outputs": [],
   "source": [
    "# Memory efficienecy -- Numpy vs list\n",
    "# let's check memory consumption \n",
    "import sys\n",
    "\n",
    "list_data = list(range(1000))\n",
    "numpy_data = np.array(list_data)\n",
    "\n",
    "print(\"Python list size:\", sys.getsizeof(list_data) * len(list_data), \"bytes\")\n",
    "print(\"Numpy array size:\", numpy_data.nbytes, \"bytes\")"
   ]
  },
  {
   "cell_type": "code",
   "execution_count": null,
   "id": "022c3998-b115-42a9-9753-998e091e6159",
   "metadata": {},
   "outputs": [],
   "source": [
    "## Vectorization -- No more loops \n",
    "# Python list (loop-based)\n",
    "list_squares = [x ** 2 for x in l1]\n",
    "\n",
    "# numpy vectorization \n",
    "numpy_squares = arr1 ** 2"
   ]
  },
  {
   "cell_type": "code",
   "execution_count": null,
   "id": "3aa2cafd-fc15-492e-91aa-c838c3332fd1",
   "metadata": {},
   "outputs": [],
   "source": []
  }
 ],
 "metadata": {
  "kernelspec": {
   "display_name": "Python [conda env:miniconda3-eda-env]",
   "language": "python",
   "name": "conda-env-miniconda3-eda-env-py"
  },
  "language_info": {
   "codemirror_mode": {
    "name": "ipython",
    "version": 3
   },
   "file_extension": ".py",
   "mimetype": "text/x-python",
   "name": "python",
   "nbconvert_exporter": "python",
   "pygments_lexer": "ipython3",
   "version": "3.10.16"
  }
 },
 "nbformat": 4,
 "nbformat_minor": 5
}
