{
 "cells": [
  {
   "cell_type": "markdown",
   "id": "2fc5ed52-d28a-4a04-8101-03d6c7ec7b1a",
   "metadata": {},
   "source": [
    "# 1 . Create a numpy array with values from 10 to 100 and print its shape\n"
   ]
  },
  {
   "cell_type": "code",
   "execution_count": 5,
   "id": "f8289fc4-330b-4bbb-b580-bc53e8b22ecb",
   "metadata": {},
   "outputs": [
    {
     "name": "stdout",
     "output_type": "stream",
     "text": [
      "[10 11 12 13 14 15 16 17 18 19 20 21 22 23 24 25 26 27 28 29 30 31 32 33\n",
      " 34 35 36 37 38 39 40 41 42 43 44 45 46 47 48 49 50 51 52 53 54 55 56 57\n",
      " 58 59 60 61 62 63 64 65 66 67 68 69 70 71 72 73 74 75 76 77 78 79 80 81\n",
      " 82 83 84 85 86 87 88 89 90 91 92 93 94 95 96 97 98 99]\n"
     ]
    },
    {
     "data": {
      "text/plain": [
       "(90,)"
      ]
     },
     "execution_count": 5,
     "metadata": {},
     "output_type": "execute_result"
    }
   ],
   "source": [
    "import numpy as np\n",
    "arr1 = np.arange(10,100)\n",
    "print(arr1)\n",
    "arr1.shape"
   ]
  },
  {
   "cell_type": "markdown",
   "id": "c68aeeca-a025-4b48-9924-ab6dc3ae72b2",
   "metadata": {},
   "source": [
    "# 2. COmpare the time taken to multiply two python list vs two numpy arrays "
   ]
  },
  {
   "cell_type": "code",
   "execution_count": 9,
   "id": "b9008d39-64a8-4cca-9641-606822fbe5da",
   "metadata": {},
   "outputs": [
    {
     "name": "stdout",
     "output_type": "stream",
     "text": [
      "0.0013470649719238281\n",
      "0.0012717247009277344\n"
     ]
    }
   ],
   "source": [
    "import numpy as np\n",
    "import time\n",
    "\n",
    "size = 1_000_0\n",
    "l1 = list(range(size))\n",
    "l2 = list(range(size))\n",
    "\n",
    "start = time.time()\n",
    "result1 = [x * y for x, y in zip(l1,l2)]\n",
    "end = time.time()\n",
    "\n",
    "print(end - start)\n",
    "\n",
    "arr1 = np.array(l1)\n",
    "arr2 = np.array(l2)\n",
    "start = time.time()\n",
    "result2 = arr1 * arr2\n",
    "end = time.time()\n",
    "print(end - start)\n"
   ]
  },
  {
   "cell_type": "markdown",
   "id": "07f4474d-c2a1-4000-b938-d323fe44a3bc",
   "metadata": {},
   "source": [
    "# 3. Find the memory size of a numpy array with 1 million element"
   ]
  },
  {
   "cell_type": "code",
   "execution_count": 14,
   "id": "571530f5-7027-4134-b8a7-f5a514dd801e",
   "metadata": {},
   "outputs": [
    {
     "name": "stdout",
     "output_type": "stream",
     "text": [
      "8\n"
     ]
    }
   ],
   "source": [
    "import sys\n",
    "\n",
    "\n",
    "numpy_data = np.array(1000000)\n",
    "\n",
    "print(numpy_data.nbytes)"
   ]
  },
  {
   "cell_type": "code",
   "execution_count": null,
   "id": "e298bbf3-853d-4b75-99b7-89a87eea3ce3",
   "metadata": {},
   "outputs": [],
   "source": []
  }
 ],
 "metadata": {
  "kernelspec": {
   "display_name": "Python [conda env:miniconda3-eda-env]",
   "language": "python",
   "name": "conda-env-miniconda3-eda-env-py"
  },
  "language_info": {
   "codemirror_mode": {
    "name": "ipython",
    "version": 3
   },
   "file_extension": ".py",
   "mimetype": "text/x-python",
   "name": "python",
   "nbconvert_exporter": "python",
   "pygments_lexer": "ipython3",
   "version": "3.10.16"
  }
 },
 "nbformat": 4,
 "nbformat_minor": 5
}
