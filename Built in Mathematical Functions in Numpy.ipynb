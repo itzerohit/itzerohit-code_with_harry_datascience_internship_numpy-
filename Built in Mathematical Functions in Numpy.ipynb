{
 "cells": [
  {
   "cell_type": "code",
   "execution_count": 16,
   "id": "455d033c-83a9-4103-b11e-79a731bd69f5",
   "metadata": {},
   "outputs": [
    {
     "data": {
      "text/plain": [
       "np.float64(58.0)"
      ]
     },
     "execution_count": 16,
     "metadata": {},
     "output_type": "execute_result"
    }
   ],
   "source": [
    "import numpy as np\n",
    "arr = np.array([10,46,87,89])\n",
    "np.mean(arr)\n",
    "\n"
   ]
  },
  {
   "cell_type": "markdown",
   "id": "0f98bddb-087a-43fa-9e34-0c9b38e0f6d2",
   "metadata": {},
   "source": [
    "arr.dtype\n"
   ]
  },
  {
   "cell_type": "code",
   "execution_count": 18,
   "id": "2ba9313f-5697-4c98-b55f-90400c2bfe39",
   "metadata": {},
   "outputs": [
    {
     "data": {
      "text/plain": [
       "np.float64(58.0)"
      ]
     },
     "execution_count": 18,
     "metadata": {},
     "output_type": "execute_result"
    }
   ],
   "source": [
    "np.mean(arr)"
   ]
  },
  {
   "cell_type": "markdown",
   "id": "81770b1f-5c44-40d5-b958-2d9f72200b05",
   "metadata": {},
   "source": [
    "np.std() -- Compute the standard deviation of an array"
   ]
  },
  {
   "cell_type": "code",
   "execution_count": 19,
   "id": "d1ff5108-012d-4370-b65e-4e14f7b8a2c0",
   "metadata": {},
   "outputs": [
    {
     "data": {
      "text/plain": [
       "np.float64(32.59601202601324)"
      ]
     },
     "execution_count": 19,
     "metadata": {},
     "output_type": "execute_result"
    }
   ],
   "source": [
    "np.std(arr)"
   ]
  },
  {
   "cell_type": "markdown",
   "id": "7cd9f7d6-c8fb-463f-a7b9-530201f42d3f",
   "metadata": {},
   "source": [
    "np.var() -- compute the variance of an array\n"
   ]
  },
  {
   "cell_type": "code",
   "execution_count": 20,
   "id": "26169de8-0329-441a-acfb-c00a762b7577",
   "metadata": {},
   "outputs": [
    {
     "data": {
      "text/plain": [
       "np.float64(1062.5)"
      ]
     },
     "execution_count": 20,
     "metadata": {},
     "output_type": "execute_result"
    }
   ],
   "source": [
    "np.var(arr)"
   ]
  },
  {
   "cell_type": "code",
   "execution_count": 23,
   "id": "a7278b35-5193-4a54-aea8-e8035a10a796",
   "metadata": {},
   "outputs": [
    {
     "data": {
      "text/plain": [
       "np.float64(1062.5)"
      ]
     },
     "execution_count": 23,
     "metadata": {},
     "output_type": "execute_result"
    }
   ],
   "source": [
    "arr.var()"
   ]
  },
  {
   "cell_type": "markdown",
   "id": "2e543251-7c23-46c6-9613-d1d4f7a3bd67",
   "metadata": {},
   "source": [
    "np.min -- Compute the minimum value of the array\n"
   ]
  },
  {
   "cell_type": "code",
   "execution_count": 24,
   "id": "15efa48c-2e70-4eb4-8979-ace0306ec16c",
   "metadata": {},
   "outputs": [
    {
     "data": {
      "text/plain": [
       "np.int64(10)"
      ]
     },
     "execution_count": 24,
     "metadata": {},
     "output_type": "execute_result"
    }
   ],
   "source": [
    "arr.min()"
   ]
  },
  {
   "cell_type": "code",
   "execution_count": 25,
   "id": "ce87d023-66e1-42d9-ac7e-41fe446782a9",
   "metadata": {},
   "outputs": [
    {
     "data": {
      "text/plain": [
       "np.int64(10)"
      ]
     },
     "execution_count": 25,
     "metadata": {},
     "output_type": "execute_result"
    }
   ],
   "source": [
    "np.min(arr)"
   ]
  },
  {
   "cell_type": "markdown",
   "id": "24f02e8e-25de-4163-ae42-751357d9ba2a",
   "metadata": {},
   "source": [
    "np.max -- Compute the maximum value of an array "
   ]
  },
  {
   "cell_type": "markdown",
   "id": "c56de6b4-f8e7-4474-8284-d3055468eb73",
   "metadata": {},
   "source": [
    "np.sum -- compute the sum of all elements of an array"
   ]
  },
  {
   "cell_type": "code",
   "execution_count": 26,
   "id": "c61899d8-68d6-4883-9981-f049e05ac3ba",
   "metadata": {},
   "outputs": [
    {
     "data": {
      "text/plain": [
       "np.int64(232)"
      ]
     },
     "execution_count": 26,
     "metadata": {},
     "output_type": "execute_result"
    }
   ],
   "source": [
    "arr.sum()"
   ]
  },
  {
   "cell_type": "code",
   "execution_count": 27,
   "id": "aba8761c-8382-4c92-81f4-0404e2627327",
   "metadata": {},
   "outputs": [
    {
     "data": {
      "text/plain": [
       "np.int64(232)"
      ]
     },
     "execution_count": 27,
     "metadata": {},
     "output_type": "execute_result"
    }
   ],
   "source": [
    "np.sum(arr)"
   ]
  },
  {
   "cell_type": "markdown",
   "id": "b24d6924-9ba6-4f86-a1a8-66ada1eab515",
   "metadata": {},
   "source": [
    "np.prod() -- compute all the product of an array"
   ]
  },
  {
   "cell_type": "code",
   "execution_count": 28,
   "id": "7a52c85d-463d-479a-a600-3dbe17588e16",
   "metadata": {},
   "outputs": [
    {
     "data": {
      "text/plain": [
       "np.int64(3561780)"
      ]
     },
     "execution_count": 28,
     "metadata": {},
     "output_type": "execute_result"
    }
   ],
   "source": [
    "arr.prod()"
   ]
  },
  {
   "cell_type": "code",
   "execution_count": 29,
   "id": "3a9c36e5-3089-4e6b-815e-f00ded944505",
   "metadata": {},
   "outputs": [
    {
     "data": {
      "text/plain": [
       "np.int64(3561780)"
      ]
     },
     "execution_count": 29,
     "metadata": {},
     "output_type": "execute_result"
    }
   ],
   "source": [
    "np.prod(arr)"
   ]
  },
  {
   "cell_type": "markdown",
   "id": "212a0812-e3f2-4be5-8bad-d98c3fd27d43",
   "metadata": {},
   "source": [
    "np.median -- Computing the median of an array "
   ]
  },
  {
   "cell_type": "code",
   "execution_count": 31,
   "id": "416daa56-8177-4f1b-b1b0-f6dbba58bcd8",
   "metadata": {},
   "outputs": [
    {
     "data": {
      "text/plain": [
       "np.float64(66.5)"
      ]
     },
     "execution_count": 31,
     "metadata": {},
     "output_type": "execute_result"
    }
   ],
   "source": [
    "np.median(arr)"
   ]
  },
  {
   "cell_type": "code",
   "execution_count": 36,
   "id": "0152fa4b-d983-4bd3-91a7-9615eeda5137",
   "metadata": {},
   "outputs": [
    {
     "data": {
      "text/plain": [
       "np.float64(66.5)"
      ]
     },
     "execution_count": 36,
     "metadata": {},
     "output_type": "execute_result"
    }
   ],
   "source": [
    "np.median(arr)"
   ]
  },
  {
   "cell_type": "markdown",
   "id": "f4e99ec9-9a7e-488f-b99a-560b4d9f9c46",
   "metadata": {},
   "source": [
    "np.percentile() -- calculate the percentile of an array"
   ]
  },
  {
   "cell_type": "code",
   "execution_count": 40,
   "id": "8ee54987-be17-4e77-937e-f9dc9ff729e1",
   "metadata": {},
   "outputs": [
    {
     "data": {
      "text/plain": [
       "np.float64(89.0)"
      ]
     },
     "execution_count": 40,
     "metadata": {},
     "output_type": "execute_result"
    }
   ],
   "source": [
    "np.percentile(arr,100)"
   ]
  },
  {
   "cell_type": "markdown",
   "id": "43f491d7-8364-48a8-8004-25e4d951d850",
   "metadata": {},
   "source": [
    "np.argmin() -- Return the index of the minimum value in an array"
   ]
  },
  {
   "cell_type": "code",
   "execution_count": 43,
   "id": "fe926360-4ad9-40dc-b0b5-53e551060ea7",
   "metadata": {},
   "outputs": [
    {
     "data": {
      "text/plain": [
       "np.int64(0)"
      ]
     },
     "execution_count": 43,
     "metadata": {},
     "output_type": "execute_result"
    }
   ],
   "source": [
    "np.argmin(arr)"
   ]
  },
  {
   "cell_type": "code",
   "execution_count": 44,
   "id": "22ff54d8-b094-497c-a13f-912a97577c5a",
   "metadata": {},
   "outputs": [
    {
     "data": {
      "text/plain": [
       "np.int64(3)"
      ]
     },
     "execution_count": 44,
     "metadata": {},
     "output_type": "execute_result"
    }
   ],
   "source": [
    "np.argmax(arr)"
   ]
  },
  {
   "cell_type": "markdown",
   "id": "a92e23ba-1979-4b39-91b0-fdf9d439ea84",
   "metadata": {},
   "source": [
    "np.corrcoef(arr1,arr2) - compute the correlation coefficient matrix of two arrays "
   ]
  },
  {
   "cell_type": "code",
   "execution_count": 46,
   "id": "af9a3283-a618-46ac-889f-da17b6c32516",
   "metadata": {},
   "outputs": [],
   "source": [
    "arr1 = np.array([1,2,3])"
   ]
  },
  {
   "cell_type": "code",
   "execution_count": 47,
   "id": "f993355c-bf5f-4b32-97a3-4519f85e6292",
   "metadata": {},
   "outputs": [],
   "source": [
    "arr2 = np.array([1,2,4])"
   ]
  },
  {
   "cell_type": "code",
   "execution_count": 48,
   "id": "5ddadea1-e725-4f93-b8ca-d67880b3b89f",
   "metadata": {},
   "outputs": [
    {
     "data": {
      "text/plain": [
       "array([[1.        , 0.98198051],\n",
       "       [0.98198051, 1.        ]])"
      ]
     },
     "execution_count": 48,
     "metadata": {},
     "output_type": "execute_result"
    }
   ],
   "source": [
    "np.corrcoef(arr1,arr2)"
   ]
  },
  {
   "cell_type": "markdown",
   "id": "7ac1fe4a-fa91-48d4-96b0-3c9390fc15b7",
   "metadata": {},
   "source": [
    "np.unique() -- Find the unique element of an array"
   ]
  },
  {
   "cell_type": "code",
   "execution_count": 49,
   "id": "8bc61c8e-3681-454a-a48a-7db515849b44",
   "metadata": {},
   "outputs": [
    {
     "data": {
      "text/plain": [
       "array([10, 46, 87, 89])"
      ]
     },
     "execution_count": 49,
     "metadata": {},
     "output_type": "execute_result"
    }
   ],
   "source": [
    "np.unique(arr)"
   ]
  },
  {
   "cell_type": "markdown",
   "id": "5b649e47-8b05-4a52-89d3-d8fd954d1aed",
   "metadata": {},
   "source": [
    "np.diff() -- conmpute the n-th difference of an array"
   ]
  },
  {
   "cell_type": "code",
   "execution_count": 50,
   "id": "dd2deb58-2dfe-4142-8290-8270a9b60d2e",
   "metadata": {},
   "outputs": [
    {
     "data": {
      "text/plain": [
       "array([36, 41,  2])"
      ]
     },
     "execution_count": 50,
     "metadata": {},
     "output_type": "execute_result"
    }
   ],
   "source": [
    "np.diff(arr)"
   ]
  },
  {
   "cell_type": "markdown",
   "id": "37a90726-74db-4ab3-b0f7-a2f6ba55436c",
   "metadata": {},
   "source": [
    "np.cumsum() -- compete the cumulative sum of an array"
   ]
  },
  {
   "cell_type": "code",
   "execution_count": 51,
   "id": "2b17e3c6-49b7-4350-8737-2698d66d5b86",
   "metadata": {},
   "outputs": [
    {
     "data": {
      "text/plain": [
       "array([ 10,  56, 143, 232])"
      ]
     },
     "execution_count": 51,
     "metadata": {},
     "output_type": "execute_result"
    }
   ],
   "source": [
    "np.cumsum(arr)"
   ]
  },
  {
   "cell_type": "markdown",
   "id": "8b9f9cc1-d05b-4969-8227-e6c6a3a4ed19",
   "metadata": {},
   "source": [
    "np.linspace() -- Create an array with evenly spaced numbers over a specified interval"
   ]
  },
  {
   "cell_type": "code",
   "execution_count": 54,
   "id": "dd022614-ab5a-48a6-986c-20a6ddf3fa8f",
   "metadata": {},
   "outputs": [
    {
     "data": {
      "text/plain": [
       "array([ 0. ,  2.5,  5. ,  7.5, 10. ])"
      ]
     },
     "execution_count": 54,
     "metadata": {},
     "output_type": "execute_result"
    }
   ],
   "source": [
    "np.linspace(0,10,5)"
   ]
  },
  {
   "cell_type": "markdown",
   "id": "fa8e2988-5183-4171-9c82-ddcac6f0385d",
   "metadata": {},
   "source": [
    "nyp.log() -- compute the natural algorithm of an arra"
   ]
  },
  {
   "cell_type": "code",
   "execution_count": 55,
   "id": "e5dc8d6a-e1e2-4806-aaf6-fd23e775b723",
   "metadata": {},
   "outputs": [
    {
     "data": {
      "text/plain": [
       "array([2.30258509, 3.8286414 , 4.46590812, 4.48863637])"
      ]
     },
     "execution_count": 55,
     "metadata": {},
     "output_type": "execute_result"
    }
   ],
   "source": [
    "np.log(arr)"
   ]
  },
  {
   "cell_type": "markdown",
   "id": "332d975c-2103-4c32-9d14-90954fd5b6c3",
   "metadata": {},
   "source": [
    "np.exp() -- compute the exponential of an array"
   ]
  },
  {
   "cell_type": "code",
   "execution_count": 57,
   "id": "6abefa02-76b8-4103-b1a5-0a25c7b9b307",
   "metadata": {},
   "outputs": [
    {
     "data": {
      "text/plain": [
       "array([2.20264658e+04, 9.49611942e+19, 6.07603023e+37, 4.48961282e+38])"
      ]
     },
     "execution_count": 57,
     "metadata": {},
     "output_type": "execute_result"
    }
   ],
   "source": [
    "np.exp(arr)"
   ]
  },
  {
   "cell_type": "code",
   "execution_count": null,
   "id": "0cd9efbb-2d27-4f25-8ad1-4432cab91ca3",
   "metadata": {},
   "outputs": [],
   "source": []
  }
 ],
 "metadata": {
  "kernelspec": {
   "display_name": "Python [conda env:miniconda3-eda-env]",
   "language": "python",
   "name": "conda-env-miniconda3-eda-env-py"
  },
  "language_info": {
   "codemirror_mode": {
    "name": "ipython",
    "version": 3
   },
   "file_extension": ".py",
   "mimetype": "text/x-python",
   "name": "python",
   "nbconvert_exporter": "python",
   "pygments_lexer": "ipython3",
   "version": "3.10.16"
  }
 },
 "nbformat": 4,
 "nbformat_minor": 5
}
