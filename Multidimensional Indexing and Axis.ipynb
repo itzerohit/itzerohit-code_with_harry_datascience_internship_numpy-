{
 "cells": [
  {
   "cell_type": "code",
   "execution_count": 1,
   "id": "763cbaa3-4b51-4044-b931-d5e30a14b856",
   "metadata": {},
   "outputs": [
    {
     "name": "stdout",
     "output_type": "stream",
     "text": [
      "[[1 2 3]\n",
      " [4 5 6]\n",
      " [7 8 9]]\n"
     ]
    }
   ],
   "source": [
    "import numpy as np\n",
    "\n",
    "arr = np.array([[1,2,3],\n",
    "                [4,5,6],\n",
    "                [7,8,9]])\n",
    "print(arr)"
   ]
  },
  {
   "cell_type": "code",
   "execution_count": 5,
   "id": "3e0704af-f162-41b0-92bc-866a51363f18",
   "metadata": {},
   "outputs": [
    {
     "data": {
      "text/plain": [
       "array([1, 2, 3])"
      ]
     },
     "execution_count": 5,
     "metadata": {},
     "output_type": "execute_result"
    }
   ],
   "source": [
    "arr[0]"
   ]
  },
  {
   "cell_type": "code",
   "execution_count": 6,
   "id": "12456ab7-05f2-4ead-aae4-60de07c02850",
   "metadata": {},
   "outputs": [
    {
     "data": {
      "text/plain": [
       "array([4, 5, 6])"
      ]
     },
     "execution_count": 6,
     "metadata": {},
     "output_type": "execute_result"
    }
   ],
   "source": [
    "arr[1]"
   ]
  },
  {
   "cell_type": "code",
   "execution_count": 7,
   "id": "dd5a6272-9470-48b3-aa40-d23de5873f43",
   "metadata": {},
   "outputs": [
    {
     "data": {
      "text/plain": [
       "array([7, 8, 9])"
      ]
     },
     "execution_count": 7,
     "metadata": {},
     "output_type": "execute_result"
    }
   ],
   "source": [
    "arr[2]"
   ]
  },
  {
   "cell_type": "markdown",
   "id": "0d47f73a-9dd0-462d-8109-ec6562850ced",
   "metadata": {},
   "source": [
    " # axis 0(rows) -- operation move down the columns\n",
    " # axis 1(columns) -- operation move across the rows"
   ]
  },
  {
   "cell_type": "code",
   "execution_count": 10,
   "id": "3a567cc4-1a2d-41a8-962f-8ec2eb08dfeb",
   "metadata": {},
   "outputs": [
    {
     "data": {
      "text/plain": [
       "array([12, 15, 18])"
      ]
     },
     "execution_count": 10,
     "metadata": {},
     "output_type": "execute_result"
    }
   ],
   "source": [
    "np.sum(arr, axis=0) # Sum along rows (down each column) "
   ]
  },
  {
   "cell_type": "code",
   "execution_count": 11,
   "id": "aa64398e-539b-4ff8-8fe7-86eabed2930b",
   "metadata": {},
   "outputs": [
    {
     "data": {
      "text/plain": [
       "array([ 6, 15, 24])"
      ]
     },
     "execution_count": 11,
     "metadata": {},
     "output_type": "execute_result"
    }
   ],
   "source": [
    "np.sum(arr, axis=1)  # Sum along column (across each row)"
   ]
  },
  {
   "cell_type": "markdown",
   "id": "b1628c2c-ca08-45e8-a7ea-1cce477ab669",
   "metadata": {},
   "source": [
    "\n",
    "Indexing in MUltidimensional Arrays"
   ]
  },
  {
   "cell_type": "code",
   "execution_count": 12,
   "id": "57b77288-93ac-42e2-a7f6-15f61c796785",
   "metadata": {},
   "outputs": [
    {
     "data": {
      "text/plain": [
       "np.int64(2)"
      ]
     },
     "execution_count": 12,
     "metadata": {},
     "output_type": "execute_result"
    }
   ],
   "source": [
    "arr[0][1]"
   ]
  },
  {
   "cell_type": "code",
   "execution_count": 13,
   "id": "8f312a91-25ae-464c-97ad-1dbf266a1e66",
   "metadata": {},
   "outputs": [
    {
     "data": {
      "text/plain": [
       "array([[1, 2, 3],\n",
       "       [4, 5, 6],\n",
       "       [7, 8, 9]])"
      ]
     },
     "execution_count": 13,
     "metadata": {},
     "output_type": "execute_result"
    }
   ],
   "source": [
    "arr"
   ]
  },
  {
   "cell_type": "code",
   "execution_count": 14,
   "id": "c0d41506-4260-4113-8a5b-d90b136f7f81",
   "metadata": {},
   "outputs": [
    {
     "data": {
      "text/plain": [
       "np.int64(2)"
      ]
     },
     "execution_count": 14,
     "metadata": {},
     "output_type": "execute_result"
    }
   ],
   "source": [
    "arr[0][1]"
   ]
  },
  {
   "cell_type": "code",
   "execution_count": 15,
   "id": "5e086382-1e15-4206-b1ac-0fb5d37cff82",
   "metadata": {},
   "outputs": [
    {
     "data": {
      "text/plain": [
       "array([[1, 2, 3]])"
      ]
     },
     "execution_count": 15,
     "metadata": {},
     "output_type": "execute_result"
    }
   ],
   "source": [
    "arr[0:1]"
   ]
  },
  {
   "cell_type": "code",
   "execution_count": 16,
   "id": "068b4164-5c2b-415f-9d09-bcb8bd0c299f",
   "metadata": {},
   "outputs": [
    {
     "data": {
      "text/plain": [
       "np.int64(2)"
      ]
     },
     "execution_count": 16,
     "metadata": {},
     "output_type": "execute_result"
    }
   ],
   "source": [
    "arr[0,1] # zeroth rown and column i lelo "
   ]
  },
  {
   "cell_type": "code",
   "execution_count": 17,
   "id": "ff754c2a-0a2d-42ad-a73e-e8b28a09d306",
   "metadata": {},
   "outputs": [
    {
     "data": {
      "text/plain": [
       "array([[2, 3],\n",
       "       [5, 6]])"
      ]
     },
     "execution_count": 17,
     "metadata": {},
     "output_type": "execute_result"
    }
   ],
   "source": [
    "arr[0:2, 1:3]"
   ]
  },
  {
   "cell_type": "markdown",
   "id": "33fad341-aec0-474a-82a4-705d832636b0",
   "metadata": {},
   "source": [
    "# Indexing in 3D Arrays"
   ]
  },
  {
   "cell_type": "markdown",
   "id": "71b469c5-95a9-4ad5-af46-962bba15a068",
   "metadata": {},
   "source": [
    "For 3D arrays, the first index refers to the \"depth\" (sheets of data)."
   ]
  },
  {
   "cell_type": "code",
   "execution_count": 18,
   "id": "d5095166-5a1b-4589-bb6b-a12fb2c6351b",
   "metadata": {},
   "outputs": [],
   "source": [
    "arr3D = np.array([[[1,2,3], [4,5,6]],[[7,8,9], [10,11,12]]])"
   ]
  },
  {
   "cell_type": "code",
   "execution_count": 22,
   "id": "c548cd92-8dc0-4746-918b-9c7dbab57b82",
   "metadata": {},
   "outputs": [
    {
     "data": {
      "text/plain": [
       "array([[[ 1,  2,  3],\n",
       "        [ 4,  5,  6]],\n",
       "\n",
       "       [[ 7,  8,  9],\n",
       "        [10, 11, 12]]])"
      ]
     },
     "execution_count": 22,
     "metadata": {},
     "output_type": "execute_result"
    }
   ],
   "source": [
    "arr3D"
   ]
  },
  {
   "cell_type": "code",
   "execution_count": 23,
   "id": "61d107a8-6800-4f54-951f-b8620fe817f1",
   "metadata": {},
   "outputs": [
    {
     "data": {
      "text/plain": [
       "(2, 2, 3)"
      ]
     },
     "execution_count": 23,
     "metadata": {},
     "output_type": "execute_result"
    }
   ],
   "source": [
    "arr3D.shape"
   ]
  },
  {
   "cell_type": "markdown",
   "id": "d2824045-50b4-42fe-997a-e05bf30921d5",
   "metadata": {},
   "source": [
    "Accessing elements in 3D"
   ]
  },
  {
   "cell_type": "code",
   "execution_count": 24,
   "id": "7cd793f2-4b4c-4237-a13b-9e655fef0630",
   "metadata": {},
   "outputs": [
    {
     "data": {
      "text/plain": [
       "np.int64(60)"
      ]
     },
     "execution_count": 24,
     "metadata": {},
     "output_type": "execute_result"
    }
   ],
   "source": [
    "#First sheet, second row, third columna\n",
    "arr[0,1,2]"
   ]
  },
  {
   "cell_type": "code",
   "execution_count": 25,
   "id": "8c758a41-2ea0-469b-9faf-d5da52fd9311",
   "metadata": {},
   "outputs": [
    {
     "data": {
      "text/plain": [
       "array([[1, 2, 3],\n",
       "       [7, 8, 9]])"
      ]
     },
     "execution_count": 25,
     "metadata": {},
     "output_type": "execute_result"
    }
   ],
   "source": [
    "arr3D[:, 0, :]"
   ]
  },
  {
   "cell_type": "markdown",
   "id": "91f4b71d-e6dc-4122-8c25-c8e0858d5fdd",
   "metadata": {},
   "source": [
    "Practical Example: Selecting Data Along Axes"
   ]
  },
  {
   "cell_type": "code",
   "execution_count": 29,
   "id": "8b0050b4-6fc7-4b5e-96ab-7c406e1ca078",
   "metadata": {},
   "outputs": [],
   "source": [
    "# Get all rows of the first column \n",
    "arr = np.array([[[1,1,1],[1,2,3]],\n",
    "                [[4,4,4],[5,5,5]]])"
   ]
  },
  {
   "cell_type": "code",
   "execution_count": 30,
   "id": "291c01f6-45c6-44c8-8979-85c55a4610cb",
   "metadata": {},
   "outputs": [],
   "source": [
    "first_col = arr[:,0]"
   ]
  },
  {
   "cell_type": "code",
   "execution_count": 31,
   "id": "0119ad40-7751-45cb-b919-6f7c87c3f1a3",
   "metadata": {},
   "outputs": [
    {
     "data": {
      "text/plain": [
       "array([[1, 1, 1],\n",
       "       [4, 4, 4]])"
      ]
     },
     "execution_count": 31,
     "metadata": {},
     "output_type": "execute_result"
    }
   ],
   "source": [
    "first_col"
   ]
  },
  {
   "cell_type": "code",
   "execution_count": 32,
   "id": "bd94bdf1-61d9-4466-b2d6-ce2bc9e3c300",
   "metadata": {},
   "outputs": [],
   "source": [
    "# Get the first row from each \"sheet\" in a 3D array"
   ]
  },
  {
   "cell_type": "code",
   "execution_count": 33,
   "id": "2d36d977-16e7-49a1-8eee-b147557c2e23",
   "metadata": {},
   "outputs": [],
   "source": [
    "first_rows = arr3D[:, 0, :]"
   ]
  },
  {
   "cell_type": "code",
   "execution_count": 34,
   "id": "b9526390-c2ab-4041-9802-949fc524f718",
   "metadata": {},
   "outputs": [
    {
     "name": "stdout",
     "output_type": "stream",
     "text": [
      "[[1 2 3]\n",
      " [7 8 9]]\n"
     ]
    }
   ],
   "source": [
    "print(first_rows)"
   ]
  },
  {
   "cell_type": "markdown",
   "id": "67abc2ca-47fb-4f41-9d33-0b8668df1de0",
   "metadata": {},
   "source": [
    "Changing Data Along an Axis"
   ]
  },
  {
   "cell_type": "code",
   "execution_count": 38,
   "id": "1ae0499b-a717-4002-9d9b-c6f72677e5ff",
   "metadata": {},
   "outputs": [],
   "source": [
    "# Replace all elements in column 1 with 0\n",
    "arr3D[:, 1] = 0"
   ]
  },
  {
   "cell_type": "code",
   "execution_count": 39,
   "id": "60313ec7-ecbc-4ad8-a3e1-670d0b73f82a",
   "metadata": {},
   "outputs": [
    {
     "name": "stdout",
     "output_type": "stream",
     "text": [
      "[[[1 2 3]\n",
      "  [0 0 0]]\n",
      "\n",
      " [[7 8 9]\n",
      "  [0 0 0]]]\n"
     ]
    }
   ],
   "source": [
    "print(arr3D)"
   ]
  },
  {
   "cell_type": "code",
   "execution_count": null,
   "id": "3fa72db1-cd33-40f1-80d7-a37e33730621",
   "metadata": {},
   "outputs": [],
   "source": []
  }
 ],
 "metadata": {
  "kernelspec": {
   "display_name": "Python [conda env:miniconda3-eda-env]",
   "language": "python",
   "name": "conda-env-miniconda3-eda-env-py"
  },
  "language_info": {
   "codemirror_mode": {
    "name": "ipython",
    "version": 3
   },
   "file_extension": ".py",
   "mimetype": "text/x-python",
   "name": "python",
   "nbconvert_exporter": "python",
   "pygments_lexer": "ipython3",
   "version": "3.10.16"
  }
 },
 "nbformat": 4,
 "nbformat_minor": 5
}
