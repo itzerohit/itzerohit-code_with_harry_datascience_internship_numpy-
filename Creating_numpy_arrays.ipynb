{
 "cells": [
  {
   "cell_type": "code",
   "execution_count": 2,
   "id": "95cada64-fe9e-4236-aca8-cc33b5b49691",
   "metadata": {},
   "outputs": [],
   "source": [
    "import numpy as np"
   ]
  },
  {
   "cell_type": "code",
   "execution_count": 3,
   "id": "26b1f22d-4535-4639-bacb-cec6c844b4fa",
   "metadata": {},
   "outputs": [],
   "source": [
    "arr1 = np.array([1,2,3,4,5,6,7,8,9])"
   ]
  },
  {
   "cell_type": "code",
   "execution_count": 4,
   "id": "e1f94352-8afb-4b56-8dc2-12f0f4571272",
   "metadata": {},
   "outputs": [
    {
     "name": "stdout",
     "output_type": "stream",
     "text": [
      "[1 2 3 4 5 6 7 8 9]\n"
     ]
    }
   ],
   "source": [
    "print(arr1)\n"
   ]
  },
  {
   "cell_type": "code",
   "execution_count": 5,
   "id": "230e5f5f-6457-48ea-8c16-47eb22fba07d",
   "metadata": {},
   "outputs": [],
   "source": [
    "arr2 = np.array([[10,20,30],[30,40,50]])"
   ]
  },
  {
   "cell_type": "code",
   "execution_count": 6,
   "id": "f1fbe33c-36b0-47cf-b05e-01e99c3ed757",
   "metadata": {},
   "outputs": [
    {
     "name": "stdout",
     "output_type": "stream",
     "text": [
      "[[10 20 30]\n",
      " [30 40 50]]\n"
     ]
    }
   ],
   "source": [
    "print(arr2)\n"
   ]
  },
  {
   "cell_type": "markdown",
   "id": "9bf0cf44-d7f7-4ca4-909d-410a9912d50a",
   "metadata": {},
   "source": [
    "# Creating Array from scratch:"
   ]
  },
  {
   "cell_type": "code",
   "execution_count": 7,
   "id": "272a76c0-c93a-4cd2-9936-2e9b45adb1d6",
   "metadata": {},
   "outputs": [
    {
     "data": {
      "text/plain": [
       "array([[0., 0., 0.],\n",
       "       [0., 0., 0.],\n",
       "       [0., 0., 0.]])"
      ]
     },
     "execution_count": 7,
     "metadata": {},
     "output_type": "execute_result"
    }
   ],
   "source": [
    "# any matrix like 3 * 3 matrix fill with zeros\n",
    "np.zeros((3,3))"
   ]
  },
  {
   "cell_type": "code",
   "execution_count": 8,
   "id": "4fe522ff-dde1-47f9-b1bd-87361cd6e1bd",
   "metadata": {},
   "outputs": [
    {
     "data": {
      "text/plain": [
       "array([[0., 0., 0., 0., 0.],\n",
       "       [0., 0., 0., 0., 0.],\n",
       "       [0., 0., 0., 0., 0.],\n",
       "       [0., 0., 0., 0., 0.],\n",
       "       [0., 0., 0., 0., 0.]])"
      ]
     },
     "execution_count": 8,
     "metadata": {},
     "output_type": "execute_result"
    }
   ],
   "source": [
    "np.zeros((5,5))"
   ]
  },
  {
   "cell_type": "code",
   "execution_count": 9,
   "id": "35d93f1d-e955-48d5-92e3-faf0d33785ff",
   "metadata": {},
   "outputs": [
    {
     "data": {
      "text/plain": [
       "array([[1., 1., 1., 1.],\n",
       "       [1., 1., 1., 1.]])"
      ]
     },
     "execution_count": 9,
     "metadata": {},
     "output_type": "execute_result"
    }
   ],
   "source": [
    "# If i need matrix full of ones \n",
    "np.ones((2,4))"
   ]
  },
  {
   "cell_type": "code",
   "execution_count": 10,
   "id": "49238e8e-4e62-4668-aa1c-50866e0180e7",
   "metadata": {},
   "outputs": [
    {
     "data": {
      "text/plain": [
       "array([[1., 1., 1., 1.],\n",
       "       [1., 1., 1., 1.],\n",
       "       [1., 1., 1., 1.]])"
      ]
     },
     "execution_count": 10,
     "metadata": {},
     "output_type": "execute_result"
    }
   ],
   "source": [
    "np.ones((3,4))"
   ]
  },
  {
   "cell_type": "code",
   "execution_count": 13,
   "id": "02529fd7-0f08-4386-a4c2-bd3e8b02ae90",
   "metadata": {},
   "outputs": [
    {
     "data": {
      "text/plain": [
       "array([[7, 7, 7, 7],\n",
       "       [7, 7, 7, 7]])"
      ]
     },
     "execution_count": 13,
     "metadata": {},
     "output_type": "execute_result"
    }
   ],
   "source": [
    "# like we can do mor than ones as above if i need the matix fill with 2 3 4 5 6 thn what we ned to \n",
    "np.full((2,4),7)"
   ]
  },
  {
   "cell_type": "code",
   "execution_count": 14,
   "id": "7b45b010-fbf5-405b-9037-3f8d370fa6d8",
   "metadata": {},
   "outputs": [
    {
     "data": {
      "text/plain": [
       "array([[9, 9, 9, 9, 9],\n",
       "       [9, 9, 9, 9, 9],\n",
       "       [9, 9, 9, 9, 9],\n",
       "       [9, 9, 9, 9, 9]])"
      ]
     },
     "execution_count": 14,
     "metadata": {},
     "output_type": "execute_result"
    }
   ],
   "source": [
    "np.full((4,5),9)"
   ]
  },
  {
   "cell_type": "code",
   "execution_count": 17,
   "id": "a1db62e3-1456-4b3e-81a8-474009223436",
   "metadata": {},
   "outputs": [
    {
     "data": {
      "text/plain": [
       "array([[1., 0., 0., 0., 0., 0., 0., 0., 0., 0.],\n",
       "       [0., 1., 0., 0., 0., 0., 0., 0., 0., 0.],\n",
       "       [0., 0., 1., 0., 0., 0., 0., 0., 0., 0.],\n",
       "       [0., 0., 0., 1., 0., 0., 0., 0., 0., 0.],\n",
       "       [0., 0., 0., 0., 1., 0., 0., 0., 0., 0.],\n",
       "       [0., 0., 0., 0., 0., 1., 0., 0., 0., 0.],\n",
       "       [0., 0., 0., 0., 0., 0., 1., 0., 0., 0.],\n",
       "       [0., 0., 0., 0., 0., 0., 0., 1., 0., 0.],\n",
       "       [0., 0., 0., 0., 0., 0., 0., 0., 1., 0.],\n",
       "       [0., 0., 0., 0., 0., 0., 0., 0., 0., 1.]])"
      ]
     },
     "execution_count": 17,
     "metadata": {},
     "output_type": "execute_result"
    }
   ],
   "source": [
    "# like if i say i want a identity matrix \n",
    "np.eye(10)"
   ]
  },
  {
   "cell_type": "code",
   "execution_count": 22,
   "id": "532ac490-f65f-48e4-98bd-c714ed3d919c",
   "metadata": {},
   "outputs": [
    {
     "data": {
      "text/plain": [
       "array([1000, 1050, 1100, 1150, 1200, 1250, 1300, 1350, 1400, 1450, 1500,\n",
       "       1550, 1600, 1650, 1700, 1750, 1800, 1850, 1900, 1950])"
      ]
     },
     "execution_count": 22,
     "metadata": {},
     "output_type": "execute_result"
    }
   ],
   "source": [
    "# like as i solve the exercise questions if i say i want to print all the range or all th array between 10 to 100\n",
    "np.arange(1000,2000,50)"
   ]
  },
  {
   "cell_type": "code",
   "execution_count": 24,
   "id": "81d2e0ea-90d5-4c1d-a4a8-5588242a05f4",
   "metadata": {},
   "outputs": [
    {
     "data": {
      "text/plain": [
       "array([0.  , 0.25, 0.5 , 0.75, 1.  ])"
      ]
     },
     "execution_count": 24,
     "metadata": {},
     "output_type": "execute_result"
    }
   ],
   "source": [
    "# if i talk about linespace basically linespace represent how much number is possible within the given range but the thing is that you need to keep equal distance or equal portion \n",
    "np.linspace(0,1,5)"
   ]
  },
  {
   "cell_type": "code",
   "execution_count": 25,
   "id": "95511632-cb0a-44dc-971b-93e160bd3a51",
   "metadata": {},
   "outputs": [],
   "source": [
    "# key takeway  that i got is that: Numpy offer powerful shortcuts to create array without loops!"
   ]
  },
  {
   "cell_type": "markdown",
   "id": "c3069c46-3c96-4b0c-967f-d8eeb5d72906",
   "metadata": {},
   "source": [
    "# Checking Array Operators "
   ]
  },
  {
   "cell_type": "code",
   "execution_count": 31,
   "id": "ce196dca-c07f-4231-b59c-f493b023cfd8",
   "metadata": {},
   "outputs": [
    {
     "name": "stdout",
     "output_type": "stream",
     "text": [
      "Shape:  (2, 3)\n",
      "Size:  6\n",
      "Dimensions:  2\n",
      "Data type:  int64\n"
     ]
    }
   ],
   "source": [
    "arr = np.array([[10,20,30],[40,50,60]])\n",
    "\n",
    "print(\"Shape: \", arr.shape)\n",
    "print(\"Size: \", arr.size)\n",
    "print(\"Dimensions: \", arr.ndim)\n",
    "print(\"Data type: \", arr.dtype)"
   ]
  },
  {
   "cell_type": "markdown",
   "id": "7b1401ca-32da-4535-b11b-6d48872d18f1",
   "metadata": {},
   "source": [
    "Numpy arrays are strongly typed, meaning all elements share the same data type."
   ]
  },
  {
   "cell_type": "markdown",
   "id": "b570178c-22c8-402b-baea-8488e63f226f",
   "metadata": {},
   "source": [
    "# Changing Data Types"
   ]
  },
  {
   "cell_type": "code",
   "execution_count": 32,
   "id": "0738fddb-fc96-4865-9708-61c97f58f075",
   "metadata": {},
   "outputs": [],
   "source": [
    "arr = np.array([[10,20,30],[40,50,60]], dtype = \"float32\")"
   ]
  },
  {
   "cell_type": "code",
   "execution_count": 33,
   "id": "30d87892-ba26-480a-bd56-aaa17b781a48",
   "metadata": {},
   "outputs": [
    {
     "data": {
      "text/plain": [
       "dtype('float32')"
      ]
     },
     "execution_count": 33,
     "metadata": {},
     "output_type": "execute_result"
    }
   ],
   "source": [
    "arr.dtype"
   ]
  },
  {
   "cell_type": "code",
   "execution_count": 34,
   "id": "2bdc4e84-a045-44fb-84f6-b0b01d0fe60d",
   "metadata": {},
   "outputs": [],
   "source": [
    "n = arr.astype(\"float64\")\n"
   ]
  },
  {
   "cell_type": "markdown",
   "id": "9fe82a7e-b326-46ca-a8d9-be4afed33eef",
   "metadata": {},
   "source": [
    "n.dtype"
   ]
  },
  {
   "cell_type": "code",
   "execution_count": 36,
   "id": "180ceed5-3a07-4c80-9eeb-13729e37db79",
   "metadata": {},
   "outputs": [
    {
     "data": {
      "text/plain": [
       "dtype('float32')"
      ]
     },
     "execution_count": 36,
     "metadata": {},
     "output_type": "execute_result"
    }
   ],
   "source": [
    "arr.dtype"
   ]
  },
  {
   "cell_type": "markdown",
   "id": "fdae762d-e952-45d4-9fad-dab75729b924",
   "metadata": {},
   "source": [
    "Efficient memory usage by choosing the right data type"
   ]
  },
  {
   "cell_type": "code",
   "execution_count": 39,
   "id": "f8ee1662-e00a-406f-8995-37fa447afe22",
   "metadata": {},
   "outputs": [
    {
     "name": "stdout",
     "output_type": "stream",
     "text": [
      "(2, 3)\n"
     ]
    }
   ],
   "source": [
    "arr = np.array([[10,20,30],[40,50,60]])\n",
    "print(arr.shape)"
   ]
  },
  {
   "cell_type": "code",
   "execution_count": 43,
   "id": "93b153b9-5f99-4d8d-a96c-1969cd84d74c",
   "metadata": {},
   "outputs": [],
   "source": [
    "myarr = arr.reshape(3,2)"
   ]
  },
  {
   "cell_type": "code",
   "execution_count": 45,
   "id": "9d56738f-26c4-4e35-bb20-eeea2306f67c",
   "metadata": {},
   "outputs": [
    {
     "data": {
      "text/plain": [
       "array([[10, 20],\n",
       "       [30, 40],\n",
       "       [50, 60]])"
      ]
     },
     "execution_count": 45,
     "metadata": {},
     "output_type": "execute_result"
    }
   ],
   "source": [
    "myarr"
   ]
  },
  {
   "cell_type": "code",
   "execution_count": 46,
   "id": "3fe9ef69-2bab-4d39-8b37-bd8f94170c4c",
   "metadata": {},
   "outputs": [
    {
     "data": {
      "text/plain": [
       "array([10, 20, 30, 40, 50, 60])"
      ]
     },
     "execution_count": 46,
     "metadata": {},
     "output_type": "execute_result"
    }
   ],
   "source": [
    "myarr.flatten()"
   ]
  },
  {
   "cell_type": "markdown",
   "id": "acd18abe-d452-4041-b137-9e4219f9b3be",
   "metadata": {},
   "source": [
    "# Indexing and slicing "
   ]
  },
  {
   "cell_type": "code",
   "execution_count": 47,
   "id": "791b4983-af84-4e95-b6fd-e65c0708b0b8",
   "metadata": {},
   "outputs": [
    {
     "name": "stdout",
     "output_type": "stream",
     "text": [
      "10\n"
     ]
    }
   ],
   "source": [
    "# INdexing \n",
    "arr = np.array([10,20,30,40])\n",
    "print(arr[0])\n"
   ]
  },
  {
   "cell_type": "code",
   "execution_count": 48,
   "id": "dfd325d5-f94a-4c1a-8d52-c830fb17a665",
   "metadata": {},
   "outputs": [
    {
     "name": "stdout",
     "output_type": "stream",
     "text": [
      "20\n"
     ]
    }
   ],
   "source": [
    "print(arr[1])"
   ]
  },
  {
   "cell_type": "code",
   "execution_count": 53,
   "id": "542491a7-3cc0-4f76-967b-4665af032509",
   "metadata": {},
   "outputs": [
    {
     "name": "stdout",
     "output_type": "stream",
     "text": [
      "[40 50 60]\n"
     ]
    }
   ],
   "source": [
    "arr = np.array([[10,20,30],[40,50,60]])\n",
    "print(arr[1])"
   ]
  },
  {
   "cell_type": "code",
   "execution_count": 55,
   "id": "69a92957-003a-4cbc-95f0-5ee8bb6d7219",
   "metadata": {},
   "outputs": [
    {
     "name": "stdout",
     "output_type": "stream",
     "text": [
      "50\n"
     ]
    }
   ],
   "source": [
    "print(arr[1][1])"
   ]
  },
  {
   "cell_type": "code",
   "execution_count": 56,
   "id": "717acff1-6563-4bde-bfd5-8c8efc6589df",
   "metadata": {},
   "outputs": [
    {
     "name": "stdout",
     "output_type": "stream",
     "text": [
      "[20 30 40]\n"
     ]
    }
   ],
   "source": [
    "arr = np.array([10,20,30,40,50,60])\n",
    "\n",
    "print(arr[1:4])"
   ]
  },
  {
   "cell_type": "code",
   "execution_count": 57,
   "id": "dd98bfdd-4443-4dc4-8889-e59a45119fab",
   "metadata": {},
   "outputs": [
    {
     "name": "stdout",
     "output_type": "stream",
     "text": [
      "[10 20 30 40]\n"
     ]
    }
   ],
   "source": [
    "print(arr[0:4])"
   ]
  },
  {
   "cell_type": "code",
   "execution_count": 58,
   "id": "bbbe3bd5-e2b4-4b25-870e-1b205e0b674e",
   "metadata": {},
   "outputs": [
    {
     "name": "stdout",
     "output_type": "stream",
     "text": [
      "[10 20 30 40]\n"
     ]
    }
   ],
   "source": [
    "print(arr[:4])\n"
   ]
  },
  {
   "cell_type": "code",
   "execution_count": 59,
   "id": "68a717c8-dad7-41bd-992c-c1c528dd80af",
   "metadata": {},
   "outputs": [
    {
     "name": "stdout",
     "output_type": "stream",
     "text": [
      "[50 60]\n"
     ]
    }
   ],
   "source": [
    "print(arr[4:])"
   ]
  },
  {
   "cell_type": "code",
   "execution_count": 61,
   "id": "333e44cc-7f66-469f-9e3f-d4bb7f1ef5b2",
   "metadata": {},
   "outputs": [
    {
     "name": "stdout",
     "output_type": "stream",
     "text": [
      "[10 30 50]\n"
     ]
    }
   ],
   "source": [
    "print(arr[::2]) # this represent the difference actually "
   ]
  },
  {
   "cell_type": "code",
   "execution_count": 62,
   "id": "efdaf5a3-62e5-4434-8837-eaefb0e684fa",
   "metadata": {},
   "outputs": [
    {
     "data": {
      "text/plain": [
       "array([10, 20, 30, 40, 50, 60])"
      ]
     },
     "execution_count": 62,
     "metadata": {},
     "output_type": "execute_result"
    }
   ],
   "source": [
    "arr"
   ]
  },
  {
   "cell_type": "code",
   "execution_count": 63,
   "id": "b8deb074-0b2c-4b7f-a69c-4bb6a1f20c0f",
   "metadata": {},
   "outputs": [],
   "source": [
    "b = arr[3:7]"
   ]
  },
  {
   "cell_type": "code",
   "execution_count": 64,
   "id": "68ad0e86-8f7a-4b5b-90f5-54cef3c79918",
   "metadata": {},
   "outputs": [
    {
     "name": "stdout",
     "output_type": "stream",
     "text": [
      "[40 50 60]\n"
     ]
    }
   ],
   "source": [
    "print(b)\n"
   ]
  },
  {
   "cell_type": "code",
   "execution_count": 65,
   "id": "d441b27a-91ad-44d5-8e00-9c9971c38344",
   "metadata": {},
   "outputs": [],
   "source": [
    "b[0] = 444444"
   ]
  },
  {
   "cell_type": "code",
   "execution_count": 66,
   "id": "a314a418-69c7-4cdf-97d4-c06f0b279f83",
   "metadata": {},
   "outputs": [
    {
     "data": {
      "text/plain": [
       "array([444444,     50,     60])"
      ]
     },
     "execution_count": 66,
     "metadata": {},
     "output_type": "execute_result"
    }
   ],
   "source": [
    "b\n"
   ]
  },
  {
   "cell_type": "code",
   "execution_count": 67,
   "id": "d44c1dec-004e-4bda-8dea-5eba8f100c0d",
   "metadata": {},
   "outputs": [
    {
     "data": {
      "text/plain": [
       "array([    10,     20,     30, 444444,     50,     60])"
      ]
     },
     "execution_count": 67,
     "metadata": {},
     "output_type": "execute_result"
    }
   ],
   "source": [
    "arr"
   ]
  },
  {
   "cell_type": "markdown",
   "id": "c1e72d11-edfe-4b03-a2b9-2b2df6da8064",
   "metadata": {},
   "source": [
    "so changes in the slice affect the original array"
   ]
  },
  {
   "cell_type": "markdown",
   "id": "d247f6b8-16a0-4c35-8ef0-d0fbfaf0f966",
   "metadata": {},
   "source": [
    "but if we are using .copy() function  then it is not going to change in the actual arraya "
   ]
  },
  {
   "cell_type": "markdown",
   "id": "a4e017a9-9096-4367-a41d-bc776f1aa4b8",
   "metadata": {},
   "source": [
    "# Fancy indexing(Select multiple elements "
   ]
  },
  {
   "cell_type": "code",
   "execution_count": 68,
   "id": "ea58b70d-48b2-434a-9282-4a2a86635c06",
   "metadata": {},
   "outputs": [
    {
     "name": "stdout",
     "output_type": "stream",
     "text": [
      "[10 30 40]\n"
     ]
    }
   ],
   "source": [
    "arr = np.array([10,20,30,40,50])\n",
    "idx = [0,2,3]\n",
    "print(arr[idx])"
   ]
  },
  {
   "cell_type": "markdown",
   "id": "57c51276-a19d-4d5e-b217-fc797b56b454",
   "metadata": {},
   "source": [
    "# Boolean Masking"
   ]
  },
  {
   "cell_type": "code",
   "execution_count": 70,
   "id": "43eb6e52-79aa-4698-a8cb-0a99c1aa3450",
   "metadata": {},
   "outputs": [
    {
     "name": "stdout",
     "output_type": "stream",
     "text": [
      "[30 40 50 60 70]\n"
     ]
    }
   ],
   "source": [
    "arr = np.array([10,20,30,40,50,60,70])\n",
    "mask = arr > 25\n",
    "print(arr[mask]) # This is a powerful tool that is used to filter large dataset efficiently"
   ]
  },
  {
   "cell_type": "code",
   "execution_count": null,
   "id": "82a2737d-c10a-4811-afd4-b96f04c390d4",
   "metadata": {},
   "outputs": [],
   "source": []
  }
 ],
 "metadata": {
  "kernelspec": {
   "display_name": "Python [conda env:miniconda3-eda-env]",
   "language": "python",
   "name": "conda-env-miniconda3-eda-env-py"
  },
  "language_info": {
   "codemirror_mode": {
    "name": "ipython",
    "version": 3
   },
   "file_extension": ".py",
   "mimetype": "text/x-python",
   "name": "python",
   "nbconvert_exporter": "python",
   "pygments_lexer": "ipython3",
   "version": "3.10.16"
  }
 },
 "nbformat": 4,
 "nbformat_minor": 5
}
