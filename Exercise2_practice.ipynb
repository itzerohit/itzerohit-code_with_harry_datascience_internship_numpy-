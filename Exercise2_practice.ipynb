{
 "cells": [
  {
   "cell_type": "markdown",
   "id": "be3f21aa-e425-421b-ab89-9a7bd63ed42d",
   "metadata": {},
   "source": [
    "Create a 3 * 3 array filled with random numbers and print its shape "
   ]
  },
  {
   "cell_type": "code",
   "execution_count": 7,
   "id": "033d1e03-aee8-463f-8466-b6b75dc910f5",
   "metadata": {},
   "outputs": [],
   "source": [
    "import numpy as np"
   ]
  },
  {
   "cell_type": "raw",
   "id": "a7a91dcf-f932-4a6e-98b2-8c41f753b37e",
   "metadata": {},
   "source": [
    "arr = np.random.randint(3,3)"
   ]
  },
  {
   "cell_type": "code",
   "execution_count": 8,
   "id": "39e7057f-5573-40be-807b-d5379b6705dc",
   "metadata": {},
   "outputs": [
    {
     "data": {
      "text/plain": [
       "array([[[10, 20, 30],\n",
       "        [40, 50, 60],\n",
       "        [70, 80, 90]]])"
      ]
     },
     "execution_count": 8,
     "metadata": {},
     "output_type": "execute_result"
    }
   ],
   "source": [
    "arr"
   ]
  },
  {
   "cell_type": "code",
   "execution_count": 9,
   "id": "04b8e196-03df-4554-8ea7-c4b824d781d3",
   "metadata": {},
   "outputs": [
    {
     "data": {
      "text/plain": [
       "(1, 3, 3)"
      ]
     },
     "execution_count": 9,
     "metadata": {},
     "output_type": "execute_result"
    }
   ],
   "source": [
    "arr.shape"
   ]
  },
  {
   "cell_type": "code",
   "execution_count": 11,
   "id": "6946fb71-af88-4995-91b9-7a4caea0a6af",
   "metadata": {},
   "outputs": [],
   "source": [
    "myarr = np.random.randint(1,100, size = (3,3))\n"
   ]
  },
  {
   "cell_type": "code",
   "execution_count": 12,
   "id": "16d7480b-a55c-419d-a2e2-fdee6f54d0f8",
   "metadata": {},
   "outputs": [
    {
     "data": {
      "text/plain": [
       "array([[42, 34, 82],\n",
       "       [54,  2, 28],\n",
       "       [90, 27, 75]])"
      ]
     },
     "execution_count": 12,
     "metadata": {},
     "output_type": "execute_result"
    }
   ],
   "source": [
    "myarr"
   ]
  },
  {
   "cell_type": "markdown",
   "id": "84f24096-64bd-4f72-bd38-8b9edddbb6c4",
   "metadata": {},
   "source": [
    "Convert  an array of floats [1.1, 2.2, 3.3] into integers"
   ]
  },
  {
   "cell_type": "code",
   "execution_count": 13,
   "id": "22a9ef2f-2fbe-4c0d-bc42-6967623ac39b",
   "metadata": {},
   "outputs": [],
   "source": [
    "arr1 = np.array([1.1,2.2,3.3])\n"
   ]
  },
  {
   "cell_type": "code",
   "execution_count": 14,
   "id": "bb309ab7-e582-4692-8dc3-a23b0b9dff6d",
   "metadata": {},
   "outputs": [
    {
     "data": {
      "text/plain": [
       "array([1, 2, 3], dtype=int32)"
      ]
     },
     "execution_count": 14,
     "metadata": {},
     "output_type": "execute_result"
    }
   ],
   "source": [
    "arr1.astype(\"int32\")"
   ]
  },
  {
   "cell_type": "markdown",
   "id": "387f8209-db47-493d-a03e-b46efb9654ad",
   "metadata": {},
   "source": [
    "Use fancy  indexing to extract even numbers from [1,2,3,4,5,6]"
   ]
  },
  {
   "cell_type": "code",
   "execution_count": 22,
   "id": "29aab937-390d-467b-b9f2-b60ab966bd3e",
   "metadata": {},
   "outputs": [
    {
     "name": "stdout",
     "output_type": "stream",
     "text": [
      "[2 4 6]\n"
     ]
    }
   ],
   "source": [
    "arr1 = np.array([1,2,3,4,5,6])\n",
    "idx = [1,3,5]\n",
    "print(arr1[idx])"
   ]
  },
  {
   "cell_type": "markdown",
   "id": "9b63f362-158e-48b7-a5b9-39a9d71cc930",
   "metadata": {},
   "source": [
    "Reshape a 1D array of size 9 into a 3 * 3 matrix"
   ]
  },
  {
   "cell_type": "code",
   "execution_count": 25,
   "id": "4262f2b9-f72e-49db-8df5-2a8d7681ed96",
   "metadata": {},
   "outputs": [
    {
     "name": "stdout",
     "output_type": "stream",
     "text": [
      "[1 2 3 4 5 6 7 8 9]\n"
     ]
    },
    {
     "data": {
      "text/plain": [
       "array([[1, 2, 3],\n",
       "       [4, 5, 6],\n",
       "       [7, 8, 9]])"
      ]
     },
     "execution_count": 25,
     "metadata": {},
     "output_type": "execute_result"
    }
   ],
   "source": [
    "myarr = np.array([1,2,3,4,5,6,7,8,9])\n",
    "print(myarr)\n",
    "myarr.shape\n",
    "myarr.reshape(3,3)\n"
   ]
  },
  {
   "cell_type": "markdown",
   "id": "6b876227-cd5e-4922-b19a-99c812d85f2d",
   "metadata": {},
   "source": [
    "Use boolean masking to filter numbers greater than 50 in an array"
   ]
  },
  {
   "cell_type": "code",
   "execution_count": 32,
   "id": "702b697c-9786-4d7e-b216-bfe5910d414f",
   "metadata": {},
   "outputs": [],
   "source": [
    "myarr = np.arange(1,100)"
   ]
  },
  {
   "cell_type": "code",
   "execution_count": 33,
   "id": "92a4f98d-5ace-457a-a907-fcc4856cf240",
   "metadata": {},
   "outputs": [
    {
     "data": {
      "text/plain": [
       "array([ 1,  2,  3,  4,  5,  6,  7,  8,  9, 10, 11, 12, 13, 14, 15, 16, 17,\n",
       "       18, 19, 20, 21, 22, 23, 24, 25, 26, 27, 28, 29, 30, 31, 32, 33, 34,\n",
       "       35, 36, 37, 38, 39, 40, 41, 42, 43, 44, 45, 46, 47, 48, 49, 50, 51,\n",
       "       52, 53, 54, 55, 56, 57, 58, 59, 60, 61, 62, 63, 64, 65, 66, 67, 68,\n",
       "       69, 70, 71, 72, 73, 74, 75, 76, 77, 78, 79, 80, 81, 82, 83, 84, 85,\n",
       "       86, 87, 88, 89, 90, 91, 92, 93, 94, 95, 96, 97, 98, 99])"
      ]
     },
     "execution_count": 33,
     "metadata": {},
     "output_type": "execute_result"
    }
   ],
   "source": [
    "myarr"
   ]
  },
  {
   "cell_type": "code",
   "execution_count": 34,
   "id": "53a376c2-ee00-4514-af52-7cbbd0217c80",
   "metadata": {},
   "outputs": [],
   "source": [
    "mask = myarr > 50"
   ]
  },
  {
   "cell_type": "code",
   "execution_count": 35,
   "id": "b87a89ea-b6cc-4ac6-9b10-9549432d5583",
   "metadata": {},
   "outputs": [
    {
     "name": "stdout",
     "output_type": "stream",
     "text": [
      "[51 52 53 54 55 56 57 58 59 60 61 62 63 64 65 66 67 68 69 70 71 72 73 74\n",
      " 75 76 77 78 79 80 81 82 83 84 85 86 87 88 89 90 91 92 93 94 95 96 97 98\n",
      " 99]\n"
     ]
    }
   ],
   "source": [
    "print(myarr[mask])"
   ]
  },
  {
   "cell_type": "code",
   "execution_count": null,
   "id": "840cd63c-b880-42d6-8c53-7fdd0b89ec55",
   "metadata": {},
   "outputs": [],
   "source": []
  }
 ],
 "metadata": {
  "kernelspec": {
   "display_name": "Python [conda env:miniconda3-eda-env]",
   "language": "python",
   "name": "conda-env-miniconda3-eda-env-py"
  },
  "language_info": {
   "codemirror_mode": {
    "name": "ipython",
    "version": 3
   },
   "file_extension": ".py",
   "mimetype": "text/x-python",
   "name": "python",
   "nbconvert_exporter": "python",
   "pygments_lexer": "ipython3",
   "version": "3.10.16"
  }
 },
 "nbformat": 4,
 "nbformat_minor": 5
}
